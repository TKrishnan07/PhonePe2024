{
 "cells": [
  {
   "cell_type": "code",
   "execution_count": 310,
   "metadata": {},
   "outputs": [],
   "source": [
    "import pandas as pd\n",
    "import psycopg2\n",
    "import plotly.express as pt\n",
    "import json\n",
    "import requests"
   ]
  },
  {
   "cell_type": "code",
   "execution_count": 25,
   "metadata": {},
   "outputs": [],
   "source": [
    "#Creating DATAFRAME\n",
    "#PostgreSQL connection\n",
    "\n",
    "conn = psycopg2.connect(host='localhost',\n",
    "                        database= 'PhonePe',\n",
    "                        user= 'postgres',\n",
    "                        password= 'Tk0407', \n",
    "                        port= 5432 )\n",
    "cursor=conn.cursor()\n",
    "\n",
    "#Aggreated_Insurance_DATAFRAME\n",
    "\n",
    "cursor.execute(\"select * from aggregated_insurance\")\n",
    "conn.commit()\n",
    "table1=cursor.fetchall()\n",
    "\n",
    "agg_insurance=pd.DataFrame(table1,columns=(\"states\", \"Years\", \"Quarter\", \"Transaction_type\",\n",
    "                                          \"Transaction_count\", \"Transaction_amount\"))\n",
    "\n",
    "#Aggreated_Transaction_DATAFRAME\n",
    "\n",
    "cursor.execute(\"select * from aggregated_transaction\")\n",
    "conn.commit()\n",
    "table2=cursor.fetchall()\n",
    "\n",
    "agg_transaction=pd.DataFrame(table2,columns=(\"states\", \"Years\", \"Quarter\", \"Transaction_type\",\n",
    "                                              \"Transaction_count\", \"Transaction_amount\"))\n",
    "\n",
    "#Aggreated_User_DATAFRAME\n",
    "\n",
    "cursor.execute(\"select * from aggregated_user\")\n",
    "conn.commit()\n",
    "table3=cursor.fetchall()\n",
    "\n",
    "agg_user=pd.DataFrame(table3,columns=(\"states\", \"Years\", \"Quarter\", \"Brands\",\n",
    "                                              \"Transaction_count\", \"Percentage\"))\n",
    "\n",
    "#MAP_Insurance_DATAFRAME\n",
    "\n",
    "cursor.execute(\"select * from map_insurance\")\n",
    "conn.commit()\n",
    "table4=cursor.fetchall()\n",
    "\n",
    "map_insurance=pd.DataFrame(table4, columns=(\"states\", \"Years\", \"Quarter\", \"Districts\",\n",
    "                                          \"Transaction_count\", \"Transaction_amount\"))\n",
    "\n",
    "#MAP_Transaction_DATAFRAME\n",
    "\n",
    "cursor.execute(\"select * from map_transaction\")\n",
    "conn.commit()\n",
    "table5=cursor.fetchall()\n",
    "\n",
    "map_transaction=pd.DataFrame(table5, columns=(\"states\", \"Years\", \"Quarter\", \"Districts\",\n",
    "                                          \"Transaction_count\", \"Transaction_amount\"))\n",
    "\n",
    "\n",
    "#MAP_User_DATAFRAME\n",
    "\n",
    "cursor.execute(\"select * from map_user\")\n",
    "conn.commit()\n",
    "table6=cursor.fetchall()\n",
    "\n",
    "map_user=pd.DataFrame(table6, columns=(\"states\", \"Years\", \"Quarter\", \"Districts\",\n",
    "                                          \"Registered_Users\", \"App_Opens\"))\n",
    "\n",
    "#TOP_Insurance_DATAFRAME\n",
    "\n",
    "cursor.execute(\"select * from top_insurance\")\n",
    "conn.commit()\n",
    "table7=cursor.fetchall()\n",
    "\n",
    "top_insurance=pd.DataFrame(table7, columns=(\"states\", \"Years\", \"Quarter\", \"Pincodes\",\n",
    "                                          \"Transaction_count\", \"Transaction_amount\"))\n",
    "\n",
    "#TOP_Transaction_DATAFRAME\n",
    "\n",
    "cursor.execute(\"select * from top_transaction\")\n",
    "conn.commit()\n",
    "table8=cursor.fetchall()\n",
    "\n",
    "top_transaction=pd.DataFrame(table8, columns=(\"states\", \"Years\", \"Quarter\", \"Pincodes\",\n",
    "                                          \"Transaction_count\", \"Transaction_amount\"))\n",
    "\n",
    "\n",
    "#TOP_User_DATAFRAME\n",
    "\n",
    "cursor.execute(\"select * from top_user\")\n",
    "conn.commit()\n",
    "table9=cursor.fetchall()\n",
    "\n",
    "top_user=pd.DataFrame(table9, columns=(\"states\", \"Years\", \"Quarter\", \"Pincodes\",\n",
    "                                          \"RegisteredUsers\"))"
   ]
  },
  {
   "cell_type": "code",
   "execution_count": 323,
   "metadata": {},
   "outputs": [],
   "source": [
    "def Top_chart_Transaction_amount(table_name):\n",
    "\n",
    "    conn = psycopg2.connect(host='localhost',\n",
    "                            database= 'PhonePe',\n",
    "                            user= 'postgres',\n",
    "                            password= 'Tk0407', \n",
    "                            port= 5432 )\n",
    "    cursor=conn.cursor()\n",
    "\n",
    "    query1=f'''select states,sum(transaction_amount)as transaction_amount \n",
    "                from {table_name}\n",
    "                group by states\n",
    "                order by transaction_amount\n",
    "                desc limit 10;'''\n",
    "\n",
    "    cursor.execute(query1)\n",
    "    table_1 =cursor.fetchall()\n",
    "    conn.commit()\n",
    "\n",
    "    df_1=pd.DataFrame(table, columns=(\"states\",\"transaction_amount\"))\n",
    "\n",
    "    fig_amount1 = pt.bar(df_1, x=\"states\", y=\"transaction_amount\", title=f\"TRANSACTION AMOUNT\",hover_name=\"states\",\n",
    "                    color_discrete_sequence=pt.colors.sequential.Agsunset,height=650,width=600)\n",
    "    fig_amount1.show()\n",
    "\n",
    "    #Figure2\n",
    "    query2=f'''select states,sum(transaction_amount)as transaction_amount \n",
    "                from {table_name}\n",
    "                group by states\n",
    "                order by transaction_amount\n",
    "                limit 10;'''\n",
    "\n",
    "    cursor.execute(query2)\n",
    "    table_2 =cursor.fetchall()\n",
    "    conn.commit()\n",
    "\n",
    "    df_2=pd.DataFrame(table_2, columns=(\"states\",\"transaction_amount\"))\n",
    "\n",
    "    fig_amount2 = pt.bar(df_2, x=\"states\", y=\"transaction_amount\", title=f\"TRANSACTION AMOUNT\",hover_name=\"states\",\n",
    "                    color_discrete_sequence=pt.colors.sequential.Agsunset_r,height=650,width=600)\n",
    "    fig_amount2.show()\n",
    "\n",
    "    #Figure3\n",
    "    query3=f'''select states,AVG(transaction_amount)as transaction_amount\n",
    "                from {table_name}\n",
    "                group by states\n",
    "                order by transaction_amount'''\n",
    "\n",
    "    cursor.execute(query3)\n",
    "    table_3 =cursor.fetchall()\n",
    "    conn.commit()\n",
    "\n",
    "    df_3=pd.DataFrame(table_3, columns=(\"states\",\"transaction_amount\"))\n",
    "\n",
    "    fig_amount3 = pt.bar(df_3, x=\"transaction_amount\", y=\"states\",orientation=\"h\", title=f\" Average TRANSACTION AMOUNT\",hover_name=\"states\",\n",
    "                    color_discrete_sequence=pt.colors.sequential.Bluered,height=650,width=800)\n",
    "    fig_amount3.show()"
   ]
  },
  {
   "cell_type": "code",
   "execution_count": null,
   "metadata": {},
   "outputs": [],
   "source": [
    "Top_chart_Transaction_amount(\"aggregated_insurance\")"
   ]
  },
  {
   "cell_type": "code",
   "execution_count": 329,
   "metadata": {},
   "outputs": [],
   "source": [
    "def Top_chart_Transaction_count(table_name):\n",
    "\n",
    "    conn = psycopg2.connect(host='localhost',\n",
    "                            database= 'PhonePe',\n",
    "                            user= 'postgres',\n",
    "                            password= 'Tk0407', \n",
    "                            port= 5432 )\n",
    "    cursor=conn.cursor()\n",
    "\n",
    "    query1=f'''select states,sum(transaction_count)as transaction_count \n",
    "                from {table_name}\n",
    "                group by states\n",
    "                order by transaction_count\n",
    "                desc limit 10;'''\n",
    "\n",
    "    cursor.execute(query1)\n",
    "    table_1 =cursor.fetchall()\n",
    "    conn.commit()\n",
    "\n",
    "    df_1=pd.DataFrame(table_1, columns=(\"states\",\"transaction_count\"))\n",
    "\n",
    "    fig_amount1 = pt.bar(df_1, x=\"states\", y=\"transaction_count\", title=f\"TRANSACTION COUNT\",hover_name=\"states\",\n",
    "                    color_discrete_sequence=pt.colors.sequential.Agsunset,height=650,width=600)\n",
    "    fig_amount1.show()\n",
    "\n",
    "    #Figure2\n",
    "    query2=f'''select states,sum(transaction_count)as transaction_count \n",
    "                from {table_name}\n",
    "                group by states\n",
    "                order by transaction_count\n",
    "                limit 10;'''\n",
    "\n",
    "    cursor.execute(query2)\n",
    "    table_2 =cursor.fetchall()\n",
    "    conn.commit()\n",
    "\n",
    "    df_2=pd.DataFrame(table_2, columns=(\"states\",\"transaction_count\"))\n",
    "\n",
    "    fig_amount2 = pt.bar(df_2, x=\"states\", y=\"transaction_count\", title=f\"TRANSACTION COUNT\",hover_name=\"states\",\n",
    "                    color_discrete_sequence=pt.colors.sequential.Agsunset_r,height=650,width=600)\n",
    "    fig_amount2.show()\n",
    "\n",
    "    #Figure3\n",
    "    query3=f'''select states,AVG(transaction_count)as transaction_count\n",
    "                from {table_name}\n",
    "                group by states\n",
    "                order by transaction_count'''\n",
    "\n",
    "    cursor.execute(query3)\n",
    "    table_3 =cursor.fetchall()\n",
    "    conn.commit()\n",
    "\n",
    "    df_3=pd.DataFrame(table_3, columns=(\"states\",\"transaction_count\"))\n",
    "\n",
    "    fig_amount3 = pt.bar(df_3, x=\"transaction_count\", y=\"states\",orientation=\"h\", title=f\" Average TRANSACTION COUNT\",hover_name=\"states\",\n",
    "                    color_discrete_sequence=pt.colors.sequential.Bluered,height=800,width=1000)\n",
    "    fig_amount3.show()"
   ]
  },
  {
   "cell_type": "code",
   "execution_count": null,
   "metadata": {},
   "outputs": [],
   "source": [
    "Top_chart_Transaction_count(\"aggregated_insurance\")"
   ]
  },
  {
   "cell_type": "code",
   "execution_count": 333,
   "metadata": {},
   "outputs": [],
   "source": [
    "def Top_chart_Registered_User(table_name,state):\n",
    "\n",
    "    conn = psycopg2.connect(host='localhost',\n",
    "                            database= 'PhonePe',\n",
    "                            user= 'postgres',\n",
    "                            password= 'Tk0407', \n",
    "                            port= 5432 )\n",
    "    cursor=conn.cursor()\n",
    "\n",
    "    query1=f'''select districts, sum(registered_users) as registered_users from {table_name}  \n",
    "                where states= '{state}'\n",
    "                group by districts\n",
    "                order by registered_users desc\n",
    "                limit 10'''\n",
    "\n",
    "    cursor.execute(query1)\n",
    "    table_1 =cursor.fetchall()\n",
    "    conn.commit()\n",
    "\n",
    "    df_1=pd.DataFrame(table_1, columns=(\"districts\",\"registered_users\"))\n",
    "\n",
    "    fig_amount1 = pt.bar(df_1, x=\"districts\", y=\"registered_users\", title=f\"TOP 10 of REGISTERED USER\",hover_name=\"districts\",\n",
    "                    color_discrete_sequence=pt.colors.sequential.Agsunset,height=650,width=600)\n",
    "    fig_amount1.show() \n",
    "\n",
    "    #Figure2\n",
    "    query2=f'''select districts, sum(registered_users) as registered_users from {table_name} \n",
    "                where states= '{state}'\n",
    "                group by districts\n",
    "                order by registered_users\n",
    "                limit 10'''\n",
    "\n",
    "    cursor.execute(query2)\n",
    "    table_2 =cursor.fetchall()\n",
    "    conn.commit()\n",
    "\n",
    "    df_2=pd.DataFrame(table_2, columns=(\"districts\",\"registered_users\"))\n",
    "\n",
    "    fig_amount2 = pt.bar(df_2, x=\"districts\", y=\"registered_users\", title=f\"Last 10 Registered Users\",hover_name=\"districts\",\n",
    "                    color_discrete_sequence=pt.colors.sequential.Agsunset_r,height=650,width=600)\n",
    "    fig_amount2.show()\n",
    "\n",
    "    #Figure3\n",
    "    query3=f'''select districts, Avg(registered_users) as registered_users from {table_name} \n",
    "                where states= '{state}'\n",
    "                group by districts\n",
    "                order by registered_users'''\n",
    "\n",
    "    cursor.execute(query3)\n",
    "    table_3 =cursor.fetchall()\n",
    "    conn.commit()\n",
    "\n",
    "    df_3=pd.DataFrame(table_3, columns=(\"districts\",\"registered_users\"))\n",
    "\n",
    "    fig_amount3 = pt.bar(df_3, x=\"registered_users\", y=\"districts\",orientation=\"h\", title=f\" Average of Registered Users\",hover_name=\"districts\",\n",
    "                    color_discrete_sequence=pt.colors.sequential.Bluered,height=800,width=1000)\n",
    "    fig_amount3.show()"
   ]
  },
  {
   "cell_type": "code",
   "execution_count": 335,
   "metadata": {},
   "outputs": [],
   "source": [
    "def Top_chart_appopens(table_name,state):\n",
    "\n",
    "    conn = psycopg2.connect(host='localhost',\n",
    "                            database= 'PhonePe',\n",
    "                            user= 'postgres',\n",
    "                            password= 'Tk0407', \n",
    "                            port= 5432 )\n",
    "    cursor=conn.cursor()\n",
    "\n",
    "    query1=f'''select districts, sum(app_opens) as app_opens from {table_name}  \n",
    "                where states= '{state}'\n",
    "                group by districts\n",
    "                order by app_opens desc\n",
    "                limit 10'''\n",
    "\n",
    "    cursor.execute(query1)\n",
    "    table_1 =cursor.fetchall()\n",
    "    conn.commit()\n",
    "\n",
    "    df_1=pd.DataFrame(table_1, columns=(\"districts\",\"app_opens\"))\n",
    "\n",
    "    fig_amount1 = pt.bar(df_1, x=\"districts\", y=\"app_opens\", title=f\"TOP 10 of App_opens\",hover_name=\"districts\",\n",
    "                    color_discrete_sequence=pt.colors.sequential.Agsunset,height=650,width=600)\n",
    "    fig_amount1.show() \n",
    "\n",
    "    #Figure2\n",
    "    query2=f'''select districts, sum(app_opens) as app_opens from {table_name} \n",
    "                where states= '{state}'\n",
    "                group by districts\n",
    "                order by app_opens\n",
    "                limit 10'''\n",
    "\n",
    "    cursor.execute(query2)\n",
    "    table_2 =cursor.fetchall()\n",
    "    conn.commit()\n",
    "\n",
    "    df_2=pd.DataFrame(table_2, columns=(\"districts\",\"app_opens\"))\n",
    "\n",
    "    fig_amount2 = pt.bar(df_2, x=\"districts\", y=\"app_opens\", title=f\"Last 10 App_opens\",hover_name=\"districts\",\n",
    "                    color_discrete_sequence=pt.colors.sequential.Agsunset_r,height=650,width=600)\n",
    "    fig_amount2.show()\n",
    "\n",
    "    #Figure3\n",
    "    query3=f'''select districts, Avg(app_opens) as app_opens from {table_name} \n",
    "                where states= '{state}'\n",
    "                group by districts\n",
    "                order by app_opens'''\n",
    "\n",
    "    cursor.execute(query3)\n",
    "    table_3 =cursor.fetchall()\n",
    "    conn.commit()\n",
    "\n",
    "    df_3=pd.DataFrame(table_3, columns=(\"districts\",\"app_opens\"))\n",
    "\n",
    "    fig_amount3 = pt.bar(df_3, x=\"app_opens\", y=\"districts\",orientation=\"h\", title=f\" Average of App_opens \",hover_name=\"districts\",\n",
    "                    color_discrete_sequence=pt.colors.sequential.Bluered,height=800,width=1000)\n",
    "    fig_amount3.show()"
   ]
  },
  {
   "cell_type": "code",
   "execution_count": null,
   "metadata": {},
   "outputs": [],
   "source": [
    "Top_chart_appopens(\"map_user\",\"Tamil Nadu\")"
   ]
  },
  {
   "cell_type": "code",
   "execution_count": 338,
   "metadata": {},
   "outputs": [],
   "source": [
    "def Top_chart_Registered_Users (table_name):\n",
    "\n",
    "    conn = psycopg2.connect(host='localhost',\n",
    "                            database= 'PhonePe',\n",
    "                            user= 'postgres',\n",
    "                            password= 'Tk0407', \n",
    "                            port= 5432 )\n",
    "    cursor=conn.cursor()\n",
    "\n",
    "    query1=f'''select states, sum(registeredusers) as registeredusers from {table_name}\n",
    "                group by states\n",
    "                order by registeredusers desc\n",
    "                limit 10'''\n",
    "\n",
    "    cursor.execute(query1)\n",
    "    table_1 =cursor.fetchall()\n",
    "    conn.commit()\n",
    "\n",
    "    df_1=pd.DataFrame(table_1, columns=(\"states\",\"registeredusers\"))\n",
    "\n",
    "    fig_amount1 = pt.bar(df_1, x=\"states\", y=\"registeredusers\", title=f\"TOP 10 of Registered users\",hover_name=\"states\",\n",
    "                    color_discrete_sequence=pt.colors.sequential.Agsunset,height=650,width=600)\n",
    "    fig_amount1.show() \n",
    "\n",
    "    #Figure2\n",
    "    query2=f'''select states, sum(registeredusers) as registeredusers from {table_name} \n",
    "                group by states\n",
    "                order by registeredusers \n",
    "                limit 10'''\n",
    "\n",
    "    cursor.execute(query2)\n",
    "    table_2 =cursor.fetchall()\n",
    "    conn.commit()\n",
    "\n",
    "    df_2=pd.DataFrame(table_2, columns=(\"states\",\"registeredusers\"))\n",
    "\n",
    "    fig_amount2 = pt.bar(df_2, x=\"states\", y=\"registeredusers\", title=f\"Last 10 Registered users\",hover_name=\"states\",\n",
    "                    color_discrete_sequence=pt.colors.sequential.Agsunset_r,height=650,width=600)\n",
    "    fig_amount2.show()\n",
    "\n",
    "    #Figure3\n",
    "    query3=f'''select states, avg(registeredusers) as registeredusers from {table_name} \n",
    "                group by states\n",
    "                order by registeredusers'''\n",
    "\n",
    "    cursor.execute(query3)\n",
    "    table_3 =cursor.fetchall()\n",
    "    conn.commit()\n",
    "\n",
    "    df_3=pd.DataFrame(table_3, columns=(\"states\",\"registeredusers\"))\n",
    "\n",
    "    fig_amount3 = pt.bar(df_3, x=\"registeredusers\", y=\"states\",orientation=\"h\", title=f\" Average of Registered users \",hover_name=\"states\",\n",
    "                    color_discrete_sequence=pt.colors.sequential.Bluered,height=800,width=1000)\n",
    "    fig_amount3.show()"
   ]
  },
  {
   "cell_type": "code",
   "execution_count": 188,
   "metadata": {},
   "outputs": [],
   "source": [
    "#Transaction Based on Year\n",
    "def Transaction_amount_count(df,year):\n",
    "\n",
    "    tran_amt_ct_yr = df[df[\"Years\"] == year]\n",
    "    tran_amt_ct_yr.reset_index(drop=True,inplace=True)\n",
    "\n",
    "    tran_amt_ct_yr_grp = tran_amt_ct_yr.groupby(\"states\")[[\"Transaction_count\",\"Transaction_amount\"]].sum()\n",
    "    tran_amt_ct_yr_grp.reset_index(inplace= True)\n",
    "\n",
    "    fig_ct = pt.bar(tran_amt_ct_yr_grp, x=\"states\", y=\"Transaction_count\", title=f\" TRANSACTION COUNT OF {year}\",\n",
    "                    color_discrete_sequence=pt.colors.sequential.Agsunset)\n",
    "    fig_ct.show()\n",
    "    \n",
    "    fig_amt= pt.bar(tran_amt_ct_yr_grp, x=\"states\", y=\"Transaction_amount\", title=f\" TRANSACTION AMOUNT OF {year}\",\n",
    "                    color_discrete_sequence=pt.colors.sequential.Bluered_r)\n",
    "    \n",
    "    fig_amt.show()\n",
    "\n",
    "    url=\"https://gist.githubusercontent.com/jbrobst/56c13bbbf9d97d187fea01ca62ea5112/raw/e388c4cae20aa53cb5090210a42ebb9b765c0a36/india_states.geojson\"\n",
    "    response=requests.get(url)\n",
    "    data1=json.loads(response.content)\n",
    "    states_name=[]\n",
    "    for feature in data1[\"features\"]:\n",
    "        states_name.append(feature[\"properties\"][\"ST_NM\"])\n",
    "\n",
    "    states_name.sort()\n",
    "\n",
    "    India_figure_amt=pt.choropleth(tran_amt_ct_yr_grp, geojson= data1, locations= \"states\", featureidkey= \"properties.ST_NM\",\n",
    "                                   color= \"Transaction_amount\",color_continuous_scale=\"Rainbow\",\n",
    "                                   range_color= (tran_amt_ct_yr_grp[\"Transaction_amount\"].min(), tran_amt_ct_yr_grp[\"Transaction_amount\"].max()),\n",
    "                                   hover_name= \"states\", title=f\"TRANSACTION AMOUNT OF {year}\", fitbounds= \"locations\",height=700,width=600)\n",
    "    India_figure_amt.update_geos(visible=False)\n",
    "    India_figure_amt.show()\n",
    "\n",
    "    India_figure_ct=pt.choropleth(tran_amt_ct_yr_grp, geojson= data1, locations= \"states\", featureidkey= \"properties.ST_NM\",\n",
    "                                   color= \"Transaction_count\",color_continuous_scale=\"Rainbow\",\n",
    "                                   range_color= (tran_amt_ct_yr_grp[\"Transaction_count\"].min(), tran_amt_ct_yr_grp[\"Transaction_count\"].max()),\n",
    "                                   hover_name= \"states\", title=f\"TRANSACTION COUNT OF {year}\", fitbounds= \"locations\",height=600,width=600)\n",
    "    India_figure_ct.update_geos(visible=False)\n",
    "    India_figure_ct.show()\n",
    "\n",
    "    return tran_amt_ct_yr"
   ]
  },
  {
   "cell_type": "code",
   "execution_count": 189,
   "metadata": {},
   "outputs": [],
   "source": [
    "#Transaction Based on Quarter\n",
    "def Transaction_amount_count_qua(df, quarter):\n",
    "\n",
    "    tran_amt_ct_yr = df[df[\"Quarter\"] == quarter]\n",
    "    tran_amt_ct_yr.reset_index(drop=True,inplace=True)\n",
    "\n",
    "    tran_amt_ct_yr_grp = tran_amt_ct_yr.groupby(\"states\")[[\"Transaction_count\",\"Transaction_amount\"]].sum() \n",
    "    tran_amt_ct_yr_grp.reset_index(inplace= True)\n",
    "    \n",
    "    fig_ct = pt.bar(tran_amt_ct_yr_grp, x=\"states\", y=\"Transaction_count\", title=f\" TRANSACTION COUNT OF {tran_amt_ct_yr_grp['Years'].min()}YEAR Quater{quarter}\",\n",
    "                    color_discrete_sequence=pt.colors.sequential.Agsunset, height=600, width=600)\n",
    "    st.plotly_chart(fig_ct)\n",
    "    \n",
    "    fig_amt= pt.bar(tran_amt_ct_yr_grp, x=\"states\", y=\"Transaction_amount\", title=f\" TRANSACTION AMOUNT OF {tran_amt_ct_yr_grp['Years'].min()}YEAR Quater{quarter}\",\n",
    "                color_discrete_sequence=pt.colors.sequential.Bluered_r, height=600, width=600)\n",
    "    st.plotly_chart(fig_amt)\n",
    "\n",
    "    col1,col2= st.columns(2)\n",
    "    with col1:\n",
    "\n",
    "        url=\"https://gist.githubusercontent.com/jbrobst/56c13bbbf9d97d187fea01ca62ea5112/raw/e388c4cae20aa53cb5090210a42ebb9b765c0a36/india_states.geojson\"\n",
    "        response=requests.get(url)\n",
    "        data1=json.loads(response.content)\n",
    "        states_name=[]\n",
    "        for feature in data1[\"features\"]:\n",
    "            states_name.append(feature[\"properties\"][\"ST_NM\"])\n",
    "\n",
    "        states_name.sort()\n",
    "\n",
    "        India_figure_ct=pt.choropleth(tran_amt_ct_yr_grp, geojson= data1, locations= \"states\", featureidkey= \"properties.ST_NM\",\n",
    "                                    color= \"Transaction_count\",color_continuous_scale=\"Rainbow\",\n",
    "                                    range_color= (tran_amt_ct_yr_grp[\"Transaction_count\"].min(), tran_amt_ct_yr_grp[\"Transaction_count\"].max()),\n",
    "                                    hover_name= \"states\", title=f\"TRANSACTION COUNT OF {year}\", fitbounds= \"locations\", height=600, width=600)\n",
    "        India_figure_ct.update_geos(visible=False)\n",
    "        st.plotly_chart(India_figure_ct)\n",
    "        \n",
    "\n",
    "    with col2:\n",
    "\n",
    "        India_figure_amt=pt.choropleth(tran_amt_ct_yr_grp, geojson= data1, locations= \"states\", featureidkey= \"properties.ST_NM\",\n",
    "                                    color= \"Transaction_amount\",color_continuous_scale=\"Rainbow\",\n",
    "                                    range_color= (tran_amt_ct_yr_grp[\"Transaction_amount\"].min(), tran_amt_ct_yr_grp[\"Transaction_amount\"].max()),\n",
    "                                    hover_name= \"states\", title=f\"TRANSACTION AMOUNT OF {year}\", fitbounds= \"locations\", height=600, width=600)\n",
    "        India_figure_amt.update_geos(visible=False)\n",
    "        st.plotly_chart(India_figure_amt)\n",
    "\n",
    "    return tran_amt_ct_yr"
   ]
  },
  {
   "cell_type": "code",
   "execution_count": 47,
   "metadata": {},
   "outputs": [],
   "source": [
    "def Agg_Transaction_Type(df, state):\n",
    "\n",
    "    tran_amt_ct_yr = df[df[\"states\"] == state]\n",
    "    tran_amt_ct_yr.reset_index(drop=True,inplace=True)\n",
    "\n",
    "    tran_amt_ct_yr_grp = tran_amt_ct_yr.groupby(\"Transaction_type\")[[\"Transaction_count\",\"Transaction_amount\"]].sum() \n",
    "    tran_amt_ct_yr_grp.reset_index(inplace= True)\n",
    "\n",
    "    fig_pie_amt = pt.pie(data_frame = tran_amt_ct_yr_grp,names=\"Transaction_type\", values=\"Transaction_amount\",\n",
    "                         width=600, title=f\"{state.upper()} TRANSACTION AMOUNT\", hole=0.5)\n",
    "    fig_pie_amt.show()\n",
    "\n",
    "    fig_pie_ct = pt.pie(data_frame = tran_amt_ct_yr_grp,names=\"Transaction_type\", values=\"Transaction_count\",\n",
    "                         width=600, title=f\"{state.upper()} TRANSACTION COUNT\", hole=0.5)\n",
    "    fig_pie_ct.show()\n",
    "\n",
    "    return tran_amt_ct_yr\n"
   ]
  },
  {
   "cell_type": "code",
   "execution_count": null,
   "metadata": {},
   "outputs": [],
   "source": [
    "tran_amt_ct_yr=Transaction_amount_count(agg_transaction,2023)"
   ]
  },
  {
   "cell_type": "code",
   "execution_count": 99,
   "metadata": {},
   "outputs": [],
   "source": [
    "#Aggregated user data analysis-1\n",
    "def agg_user_year_fig(df, year):\n",
    "\n",
    "    agg_user_yr = df[df[\"Years\"]==year]\n",
    "    agg_user_yr.reset_index(drop=True, inplace=True) \n",
    "\n",
    "    agg_user_yr_grp = pd.DataFrame(agg_user_yr.groupby(\"Brands\")[[\"Transaction_count\"]].sum())\n",
    "    agg_user_yr_grp.reset_index(inplace=True) \n",
    "\n",
    "    india_fig_user = pt.bar(agg_user_yr_grp, x=\"Brands\", y=\"Transaction_count\" ,title=f\"Brands and Transaction_count {year}\",\n",
    "                        width=1000, color_discrete_sequence= pt.colors.sequential.Aggrnyl,hover_name=\"Brands\")\n",
    "    india_fig_user.show()\n",
    "\n",
    "    return agg_user_yr"
   ]
  },
  {
   "cell_type": "code",
   "execution_count": null,
   "metadata": {},
   "outputs": [],
   "source": [
    "Agg_user_brd_count=agg_user_year_fig(agg_user,2021)"
   ]
  },
  {
   "cell_type": "code",
   "execution_count": 111,
   "metadata": {},
   "outputs": [],
   "source": [
    "#Aggregated user data analysis-2\n",
    "def agg_user_year_fig2(df, quarter):\n",
    "\n",
    "    agg_user_yr_qua = df[df[\"Quarter\"]==quarter]\n",
    "    agg_user_yr_qua.reset_index(drop=True, inplace=True) \n",
    "\n",
    "\n",
    "    agg_user_yr_Qua_grp = pd.DataFrame(agg_user_yr_qua.groupby(\"Brands\")[[\"Transaction_count\"]].sum())\n",
    "    agg_user_yr_Qua_grp.reset_index(inplace=True) \n",
    "\n",
    "    agg_fig_user2 = pt.bar(agg_user_yr_Qua_grp, x=\"Brands\", y=\"Transaction_count\" ,title=f\"Brands and Transaction count for Quarter-{quarter}\",\n",
    "                            width=1000, color_discrete_sequence= pt.colors.sequential.Aggrnyl,hover_name=\"Brands\")\n",
    "    agg_fig_user2.show()\n",
    "\n",
    "    return agg_user_yr_qua"
   ]
  },
  {
   "cell_type": "code",
   "execution_count": null,
   "metadata": {},
   "outputs": [],
   "source": [
    "agg_user_yr_qua\n",
    "    \n",
    " "
   ]
  },
  {
   "cell_type": "code",
   "execution_count": 119,
   "metadata": {},
   "outputs": [],
   "source": [
    "#Aggregated user data analysis-3\n",
    "def agg_user_year_fig3(df, state ):\n",
    "\n",
    "    agg_user_yr_qua_sta = df[df[\"states\"]== state]\n",
    "    agg_user_yr_qua_sta.reset_index(drop=True, inplace=True)\n",
    "\n",
    "    agg_fig_user3=pt.line(agg_user_yr_qua_sta, x=\"Brands\", y=\"Transaction_count\" ,title=f\"Brands , Transaction and Percentage of {state}\",\n",
    "                                width=1000, color_discrete_sequence= pt.colors.sequential.Aggrnyl, hover_data=\"Percentage\",markers=True )\n",
    "\n",
    "    agg_fig_user3.show()"
   ]
  },
  {
   "cell_type": "code",
   "execution_count": null,
   "metadata": {},
   "outputs": [],
   "source": [
    "agg_user_year_fig3(agg_user_yr_qua, \"Andaman & Nicobar\" )"
   ]
  },
  {
   "cell_type": "code",
   "execution_count": null,
   "metadata": {},
   "outputs": [],
   "source": [
    "#map_insurance District\n",
    "def map_insurance_Dist(df,state):\n",
    "\n",
    "    tran_amt_ct_yr = df[df[\"states\"] == state]\n",
    "    tran_amt_ct_yr.reset_index(drop=True,inplace=True)\n",
    "\n",
    "    tran_amt_ct_yr_grp = tran_amt_ct_yr.groupby(\"Districts\")[[\"Transaction_count\",\"Transaction_amount\"]].sum() \n",
    "    tran_amt_ct_yr_grp.reset_index(inplace= True)\n",
    "\n",
    "    fig_bar_amt = pt.bar(tran_amt_ct_yr_grp, x =\"Transaction_amount\",y =\"Districts\", orientation=\"h\",\n",
    "                            title=f\"{state.upper()} DISTRICT AND TRANSACTION AMOUNT\",color_discrete_sequence=pt.colors.sequential.Bluered)\n",
    "    fig_bar_amt.show()\n",
    "\n",
    "    fig_bar_ct = pt.bar(tran_amt_ct_yr_grp, x =\"Transaction_count\", y =\"Districts\", orientation=\"h\",\n",
    "                            title=f\"{state.upper()} DISTRICT AND TRANSACTION COUNT\",color_discrete_sequence=pt.colors.sequential.Plasma)\n",
    "    fig_bar_ct.show()"
   ]
  },
  {
   "cell_type": "markdown",
   "metadata": {},
   "source": [
    "###MAP INSURANCE"
   ]
  },
  {
   "cell_type": "code",
   "execution_count": null,
   "metadata": {},
   "outputs": [],
   "source": [
    "map_insr_tran_amt_ct=Transaction_amount_count(map_insurance, 2020)\n",
    "map_insr_tran_amt_ct"
   ]
  },
  {
   "cell_type": "code",
   "execution_count": null,
   "metadata": {},
   "outputs": [],
   "source": [
    "map_insurance"
   ]
  },
  {
   "cell_type": "code",
   "execution_count": null,
   "metadata": {},
   "outputs": [],
   "source": [
    "map_insurance_Dist(map_insr_tran_amt_ct,\"Tamil Nadu\")"
   ]
  },
  {
   "cell_type": "code",
   "execution_count": null,
   "metadata": {},
   "outputs": [],
   "source": [
    "map_insurance_Dist_qua= Transaction_amount_count_qua(map_insr_tran_amt_ct,2)\n"
   ]
  },
  {
   "cell_type": "markdown",
   "metadata": {},
   "source": [
    "### Map Transaction"
   ]
  },
  {
   "cell_type": "code",
   "execution_count": null,
   "metadata": {},
   "outputs": [],
   "source": [
    "map_tran_amt_ct=Transaction_amount_count(map_transaction, 2022)"
   ]
  },
  {
   "cell_type": "code",
   "execution_count": null,
   "metadata": {},
   "outputs": [],
   "source": [
    "map_insurance_Dist(map_tran_amt_ct, \"Tamil Nadu\")"
   ]
  },
  {
   "cell_type": "code",
   "execution_count": null,
   "metadata": {},
   "outputs": [],
   "source": [
    "map_tran_amt_count_qua = Transaction_amount_count_qua(map_tran_amt_ct,3)"
   ]
  },
  {
   "cell_type": "code",
   "execution_count": null,
   "metadata": {},
   "outputs": [],
   "source": [
    "map_insurance_Dist(map_tran_amt_count_qua, \"Tamil Nadu\")"
   ]
  },
  {
   "cell_type": "markdown",
   "metadata": {},
   "source": [
    "### MAP_USER"
   ]
  },
  {
   "cell_type": "code",
   "execution_count": 196,
   "metadata": {},
   "outputs": [
    {
     "data": {
      "text/html": [
       "<div>\n",
       "<style scoped>\n",
       "    .dataframe tbody tr th:only-of-type {\n",
       "        vertical-align: middle;\n",
       "    }\n",
       "\n",
       "    .dataframe tbody tr th {\n",
       "        vertical-align: top;\n",
       "    }\n",
       "\n",
       "    .dataframe thead th {\n",
       "        text-align: right;\n",
       "    }\n",
       "</style>\n",
       "<table border=\"1\" class=\"dataframe\">\n",
       "  <thead>\n",
       "    <tr style=\"text-align: right;\">\n",
       "      <th></th>\n",
       "      <th>states</th>\n",
       "      <th>Years</th>\n",
       "      <th>Quarter</th>\n",
       "      <th>Districts</th>\n",
       "      <th>Registered_Users</th>\n",
       "      <th>App_Opens</th>\n",
       "    </tr>\n",
       "  </thead>\n",
       "  <tbody>\n",
       "    <tr>\n",
       "      <th>0</th>\n",
       "      <td>Andaman &amp; Nicobar</td>\n",
       "      <td>2018</td>\n",
       "      <td>1</td>\n",
       "      <td>north and middle andaman district</td>\n",
       "      <td>632</td>\n",
       "      <td>0</td>\n",
       "    </tr>\n",
       "    <tr>\n",
       "      <th>1</th>\n",
       "      <td>Andaman &amp; Nicobar</td>\n",
       "      <td>2018</td>\n",
       "      <td>1</td>\n",
       "      <td>south andaman district</td>\n",
       "      <td>5846</td>\n",
       "      <td>0</td>\n",
       "    </tr>\n",
       "    <tr>\n",
       "      <th>2</th>\n",
       "      <td>Andaman &amp; Nicobar</td>\n",
       "      <td>2018</td>\n",
       "      <td>1</td>\n",
       "      <td>nicobars district</td>\n",
       "      <td>262</td>\n",
       "      <td>0</td>\n",
       "    </tr>\n",
       "    <tr>\n",
       "      <th>3</th>\n",
       "      <td>Andaman &amp; Nicobar</td>\n",
       "      <td>2018</td>\n",
       "      <td>2</td>\n",
       "      <td>north and middle andaman district</td>\n",
       "      <td>911</td>\n",
       "      <td>0</td>\n",
       "    </tr>\n",
       "    <tr>\n",
       "      <th>4</th>\n",
       "      <td>Andaman &amp; Nicobar</td>\n",
       "      <td>2018</td>\n",
       "      <td>2</td>\n",
       "      <td>south andaman district</td>\n",
       "      <td>8143</td>\n",
       "      <td>0</td>\n",
       "    </tr>\n",
       "    <tr>\n",
       "      <th>...</th>\n",
       "      <td>...</td>\n",
       "      <td>...</td>\n",
       "      <td>...</td>\n",
       "      <td>...</td>\n",
       "      <td>...</td>\n",
       "      <td>...</td>\n",
       "    </tr>\n",
       "    <tr>\n",
       "      <th>18295</th>\n",
       "      <td>West Bengal</td>\n",
       "      <td>2024</td>\n",
       "      <td>1</td>\n",
       "      <td>nadia district</td>\n",
       "      <td>1671140</td>\n",
       "      <td>13679202</td>\n",
       "    </tr>\n",
       "    <tr>\n",
       "      <th>18296</th>\n",
       "      <td>West Bengal</td>\n",
       "      <td>2024</td>\n",
       "      <td>1</td>\n",
       "      <td>birbhum district</td>\n",
       "      <td>1056537</td>\n",
       "      <td>30502875</td>\n",
       "    </tr>\n",
       "    <tr>\n",
       "      <th>18297</th>\n",
       "      <td>West Bengal</td>\n",
       "      <td>2024</td>\n",
       "      <td>1</td>\n",
       "      <td>purba medinipur district</td>\n",
       "      <td>1655920</td>\n",
       "      <td>18688405</td>\n",
       "    </tr>\n",
       "    <tr>\n",
       "      <th>18298</th>\n",
       "      <td>West Bengal</td>\n",
       "      <td>2024</td>\n",
       "      <td>1</td>\n",
       "      <td>maldah district</td>\n",
       "      <td>1183956</td>\n",
       "      <td>33270738</td>\n",
       "    </tr>\n",
       "    <tr>\n",
       "      <th>18299</th>\n",
       "      <td>West Bengal</td>\n",
       "      <td>2024</td>\n",
       "      <td>1</td>\n",
       "      <td>darjiling district</td>\n",
       "      <td>686254</td>\n",
       "      <td>31485682</td>\n",
       "    </tr>\n",
       "  </tbody>\n",
       "</table>\n",
       "<p>18300 rows × 6 columns</p>\n",
       "</div>"
      ],
      "text/plain": [
       "                  states  Years  Quarter                          Districts  \\\n",
       "0      Andaman & Nicobar   2018        1  north and middle andaman district   \n",
       "1      Andaman & Nicobar   2018        1             south andaman district   \n",
       "2      Andaman & Nicobar   2018        1                  nicobars district   \n",
       "3      Andaman & Nicobar   2018        2  north and middle andaman district   \n",
       "4      Andaman & Nicobar   2018        2             south andaman district   \n",
       "...                  ...    ...      ...                                ...   \n",
       "18295        West Bengal   2024        1                     nadia district   \n",
       "18296        West Bengal   2024        1                   birbhum district   \n",
       "18297        West Bengal   2024        1           purba medinipur district   \n",
       "18298        West Bengal   2024        1                    maldah district   \n",
       "18299        West Bengal   2024        1                 darjiling district   \n",
       "\n",
       "       Registered_Users  App_Opens  \n",
       "0                   632          0  \n",
       "1                  5846          0  \n",
       "2                   262          0  \n",
       "3                   911          0  \n",
       "4                  8143          0  \n",
       "...                 ...        ...  \n",
       "18295           1671140   13679202  \n",
       "18296           1056537   30502875  \n",
       "18297           1655920   18688405  \n",
       "18298           1183956   33270738  \n",
       "18299            686254   31485682  \n",
       "\n",
       "[18300 rows x 6 columns]"
      ]
     },
     "execution_count": 196,
     "metadata": {},
     "output_type": "execute_result"
    }
   ],
   "source": [
    "map_user"
   ]
  },
  {
   "cell_type": "code",
   "execution_count": 234,
   "metadata": {},
   "outputs": [],
   "source": [
    "#map_user_analysis1\n",
    "def map_user_fig1(df,year):\n",
    "\n",
    "    map_user_yr = df[df[\"Years\"]== year]\n",
    "    map_user_yr.reset_index(drop=True, inplace=True) \n",
    "\n",
    "    map_user_yr_grp = map_user_yr.groupby(\"states\")[[\"Registered_Users\",\"App_Opens\"]].sum()\n",
    "    map_user_yr_grp.reset_index(inplace=True) \n",
    "\n",
    "    map_fig_user=pt.line(map_user_yr_grp, x=\"states\", y=[\"Registered_Users\",\"App_Opens\"] ,title=f\"Registered Users & App opens of {year} year\",\n",
    "                            width=1000, height=800, color_discrete_sequence= pt.colors.sequential.Bluered_r,markers=True)\n",
    "\n",
    "    map_fig_user.show()\n",
    "\n",
    "    return map_user_yr"
   ]
  },
  {
   "cell_type": "code",
   "execution_count": null,
   "metadata": {},
   "outputs": [],
   "source": [
    "map_user_fig1(map_user,2022)"
   ]
  },
  {
   "cell_type": "code",
   "execution_count": 232,
   "metadata": {},
   "outputs": [],
   "source": [
    "#map_user_analysis2\n",
    "def map_user_fig2(df,quarter):\n",
    "\n",
    "    map_user_yr_qua = df[df[\"Quarter\"]== quarter]\n",
    "    map_user_yr_qua.reset_index(drop=True, inplace=True) \n",
    "\n",
    "    map_user_yr_qua_grp = map_user_yr_qua.groupby(\"states\")[[\"Registered_Users\",\"App_Opens\"]].sum()\n",
    "    map_user_yr_qua_grp.reset_index(inplace=True) \n",
    "\n",
    "    map_fig_user1=pt.line(map_user_yr_qua_grp, x=\"states\", y=[\"Registered_Users\",\"App_Opens\"] ,title=f\"Registered Users & App opens of {df['Years'].min()} Quarter-{quarter}\",\n",
    "                            width=1000, height=800, color_discrete_sequence= pt.colors.sequential.Bluered_r,markers=True)\n",
    "\n",
    "    map_fig_user1.show()\n",
    "\n",
    "    return map_user_yr_qua"
   ]
  },
  {
   "cell_type": "code",
   "execution_count": 272,
   "metadata": {},
   "outputs": [
    {
     "data": {
      "application/vnd.plotly.v1+json": {
       "config": {
        "plotlyServerURL": "https://plot.ly"
       },
       "data": [
        {
         "hovertemplate": "variable=Registered_Users<br>states=%{x}<br>value=%{y}<extra></extra>",
         "legendgroup": "Registered_Users",
         "line": {
          "color": "rgb(255,0,0)",
          "dash": "solid"
         },
         "marker": {
          "symbol": "circle"
         },
         "mode": "lines+markers",
         "name": "Registered_Users",
         "orientation": "v",
         "showlegend": true,
         "type": "scatter",
         "x": [
          "Andaman & Nicobar",
          "Andhra Pradesh",
          "Arunachal Pradesh",
          "Assam",
          "Bihar",
          "Chandigarh",
          "Chhattisgarh",
          "Dadra and Nagar Haveli and Daman and Diu",
          "Delhi",
          "Goa",
          "Gujarat",
          "Haryana",
          "Himachal Pradesh",
          "Jammu & Kashmir",
          "Jharkhand",
          "Karnataka",
          "Kerala",
          "Ladakh",
          "Lakshadweep",
          "Madhya Pradesh",
          "Maharashtra",
          "Manipur",
          "Meghalaya",
          "Mizoram",
          "Nagaland",
          "Odisha",
          "Puducherry",
          "Punjab",
          "Rajasthan",
          "Sikkim",
          "Tamil Nadu",
          "Telangana",
          "Tripura",
          "Uttar Pradesh",
          "Uttarakhand",
          "West Bengal"
         ],
         "xaxis": "x",
         "y": [
          32710,
          14319675,
          177534,
          2550883,
          10603767,
          336351,
          3401658,
          244814,
          8391139,
          430639,
          11392657,
          7682878,
          1249867,
          845294,
          4061035,
          18655366,
          4728844,
          53034,
          3187,
          11374423,
          28765086,
          215496,
          136211,
          55574,
          130205,
          7258315,
          255600,
          4225481,
          13563201,
          119921,
          12150786,
          13378191,
          336666,
          22498519,
          2148567,
          13222022
         ],
         "yaxis": "y"
        },
        {
         "hovertemplate": "variable=App_Opens<br>states=%{x}<br>value=%{y}<extra></extra>",
         "legendgroup": "App_Opens",
         "line": {
          "color": "rgb(0,0,255)",
          "dash": "solid"
         },
         "marker": {
          "symbol": "circle"
         },
         "mode": "lines+markers",
         "name": "App_Opens",
         "orientation": "v",
         "showlegend": true,
         "type": "scatter",
         "x": [
          "Andaman & Nicobar",
          "Andhra Pradesh",
          "Arunachal Pradesh",
          "Assam",
          "Bihar",
          "Chandigarh",
          "Chhattisgarh",
          "Dadra and Nagar Haveli and Daman and Diu",
          "Delhi",
          "Goa",
          "Gujarat",
          "Haryana",
          "Himachal Pradesh",
          "Jammu & Kashmir",
          "Jharkhand",
          "Karnataka",
          "Kerala",
          "Ladakh",
          "Lakshadweep",
          "Madhya Pradesh",
          "Maharashtra",
          "Manipur",
          "Meghalaya",
          "Mizoram",
          "Nagaland",
          "Odisha",
          "Puducherry",
          "Punjab",
          "Rajasthan",
          "Sikkim",
          "Tamil Nadu",
          "Telangana",
          "Tripura",
          "Uttar Pradesh",
          "Uttarakhand",
          "West Bengal"
         ],
         "xaxis": "x",
         "y": [
          305072,
          494341698,
          3387006,
          39304924,
          218435035,
          3451250,
          68493384,
          4505127,
          142852253,
          5310126,
          155264359,
          143650123,
          16125580,
          9856653,
          76339276,
          490510075,
          45832953,
          695673,
          29202,
          253770044,
          506354812,
          3011491,
          2205253,
          739308,
          2119279,
          154682772,
          3057608,
          51289576,
          329941181,
          1912335,
          144907447,
          367130505,
          4443221,
          383703534,
          31074793,
          198589332
         ],
         "yaxis": "y"
        }
       ],
       "layout": {
        "height": 800,
        "legend": {
         "title": {
          "text": "variable"
         },
         "tracegroupgap": 0
        },
        "template": {
         "data": {
          "bar": [
           {
            "error_x": {
             "color": "#2a3f5f"
            },
            "error_y": {
             "color": "#2a3f5f"
            },
            "marker": {
             "line": {
              "color": "#E5ECF6",
              "width": 0.5
             },
             "pattern": {
              "fillmode": "overlay",
              "size": 10,
              "solidity": 0.2
             }
            },
            "type": "bar"
           }
          ],
          "barpolar": [
           {
            "marker": {
             "line": {
              "color": "#E5ECF6",
              "width": 0.5
             },
             "pattern": {
              "fillmode": "overlay",
              "size": 10,
              "solidity": 0.2
             }
            },
            "type": "barpolar"
           }
          ],
          "carpet": [
           {
            "aaxis": {
             "endlinecolor": "#2a3f5f",
             "gridcolor": "white",
             "linecolor": "white",
             "minorgridcolor": "white",
             "startlinecolor": "#2a3f5f"
            },
            "baxis": {
             "endlinecolor": "#2a3f5f",
             "gridcolor": "white",
             "linecolor": "white",
             "minorgridcolor": "white",
             "startlinecolor": "#2a3f5f"
            },
            "type": "carpet"
           }
          ],
          "choropleth": [
           {
            "colorbar": {
             "outlinewidth": 0,
             "ticks": ""
            },
            "type": "choropleth"
           }
          ],
          "contour": [
           {
            "colorbar": {
             "outlinewidth": 0,
             "ticks": ""
            },
            "colorscale": [
             [
              0,
              "#0d0887"
             ],
             [
              0.1111111111111111,
              "#46039f"
             ],
             [
              0.2222222222222222,
              "#7201a8"
             ],
             [
              0.3333333333333333,
              "#9c179e"
             ],
             [
              0.4444444444444444,
              "#bd3786"
             ],
             [
              0.5555555555555556,
              "#d8576b"
             ],
             [
              0.6666666666666666,
              "#ed7953"
             ],
             [
              0.7777777777777778,
              "#fb9f3a"
             ],
             [
              0.8888888888888888,
              "#fdca26"
             ],
             [
              1,
              "#f0f921"
             ]
            ],
            "type": "contour"
           }
          ],
          "contourcarpet": [
           {
            "colorbar": {
             "outlinewidth": 0,
             "ticks": ""
            },
            "type": "contourcarpet"
           }
          ],
          "heatmap": [
           {
            "colorbar": {
             "outlinewidth": 0,
             "ticks": ""
            },
            "colorscale": [
             [
              0,
              "#0d0887"
             ],
             [
              0.1111111111111111,
              "#46039f"
             ],
             [
              0.2222222222222222,
              "#7201a8"
             ],
             [
              0.3333333333333333,
              "#9c179e"
             ],
             [
              0.4444444444444444,
              "#bd3786"
             ],
             [
              0.5555555555555556,
              "#d8576b"
             ],
             [
              0.6666666666666666,
              "#ed7953"
             ],
             [
              0.7777777777777778,
              "#fb9f3a"
             ],
             [
              0.8888888888888888,
              "#fdca26"
             ],
             [
              1,
              "#f0f921"
             ]
            ],
            "type": "heatmap"
           }
          ],
          "heatmapgl": [
           {
            "colorbar": {
             "outlinewidth": 0,
             "ticks": ""
            },
            "colorscale": [
             [
              0,
              "#0d0887"
             ],
             [
              0.1111111111111111,
              "#46039f"
             ],
             [
              0.2222222222222222,
              "#7201a8"
             ],
             [
              0.3333333333333333,
              "#9c179e"
             ],
             [
              0.4444444444444444,
              "#bd3786"
             ],
             [
              0.5555555555555556,
              "#d8576b"
             ],
             [
              0.6666666666666666,
              "#ed7953"
             ],
             [
              0.7777777777777778,
              "#fb9f3a"
             ],
             [
              0.8888888888888888,
              "#fdca26"
             ],
             [
              1,
              "#f0f921"
             ]
            ],
            "type": "heatmapgl"
           }
          ],
          "histogram": [
           {
            "marker": {
             "pattern": {
              "fillmode": "overlay",
              "size": 10,
              "solidity": 0.2
             }
            },
            "type": "histogram"
           }
          ],
          "histogram2d": [
           {
            "colorbar": {
             "outlinewidth": 0,
             "ticks": ""
            },
            "colorscale": [
             [
              0,
              "#0d0887"
             ],
             [
              0.1111111111111111,
              "#46039f"
             ],
             [
              0.2222222222222222,
              "#7201a8"
             ],
             [
              0.3333333333333333,
              "#9c179e"
             ],
             [
              0.4444444444444444,
              "#bd3786"
             ],
             [
              0.5555555555555556,
              "#d8576b"
             ],
             [
              0.6666666666666666,
              "#ed7953"
             ],
             [
              0.7777777777777778,
              "#fb9f3a"
             ],
             [
              0.8888888888888888,
              "#fdca26"
             ],
             [
              1,
              "#f0f921"
             ]
            ],
            "type": "histogram2d"
           }
          ],
          "histogram2dcontour": [
           {
            "colorbar": {
             "outlinewidth": 0,
             "ticks": ""
            },
            "colorscale": [
             [
              0,
              "#0d0887"
             ],
             [
              0.1111111111111111,
              "#46039f"
             ],
             [
              0.2222222222222222,
              "#7201a8"
             ],
             [
              0.3333333333333333,
              "#9c179e"
             ],
             [
              0.4444444444444444,
              "#bd3786"
             ],
             [
              0.5555555555555556,
              "#d8576b"
             ],
             [
              0.6666666666666666,
              "#ed7953"
             ],
             [
              0.7777777777777778,
              "#fb9f3a"
             ],
             [
              0.8888888888888888,
              "#fdca26"
             ],
             [
              1,
              "#f0f921"
             ]
            ],
            "type": "histogram2dcontour"
           }
          ],
          "mesh3d": [
           {
            "colorbar": {
             "outlinewidth": 0,
             "ticks": ""
            },
            "type": "mesh3d"
           }
          ],
          "parcoords": [
           {
            "line": {
             "colorbar": {
              "outlinewidth": 0,
              "ticks": ""
             }
            },
            "type": "parcoords"
           }
          ],
          "pie": [
           {
            "automargin": true,
            "type": "pie"
           }
          ],
          "scatter": [
           {
            "fillpattern": {
             "fillmode": "overlay",
             "size": 10,
             "solidity": 0.2
            },
            "type": "scatter"
           }
          ],
          "scatter3d": [
           {
            "line": {
             "colorbar": {
              "outlinewidth": 0,
              "ticks": ""
             }
            },
            "marker": {
             "colorbar": {
              "outlinewidth": 0,
              "ticks": ""
             }
            },
            "type": "scatter3d"
           }
          ],
          "scattercarpet": [
           {
            "marker": {
             "colorbar": {
              "outlinewidth": 0,
              "ticks": ""
             }
            },
            "type": "scattercarpet"
           }
          ],
          "scattergeo": [
           {
            "marker": {
             "colorbar": {
              "outlinewidth": 0,
              "ticks": ""
             }
            },
            "type": "scattergeo"
           }
          ],
          "scattergl": [
           {
            "marker": {
             "colorbar": {
              "outlinewidth": 0,
              "ticks": ""
             }
            },
            "type": "scattergl"
           }
          ],
          "scattermapbox": [
           {
            "marker": {
             "colorbar": {
              "outlinewidth": 0,
              "ticks": ""
             }
            },
            "type": "scattermapbox"
           }
          ],
          "scatterpolar": [
           {
            "marker": {
             "colorbar": {
              "outlinewidth": 0,
              "ticks": ""
             }
            },
            "type": "scatterpolar"
           }
          ],
          "scatterpolargl": [
           {
            "marker": {
             "colorbar": {
              "outlinewidth": 0,
              "ticks": ""
             }
            },
            "type": "scatterpolargl"
           }
          ],
          "scatterternary": [
           {
            "marker": {
             "colorbar": {
              "outlinewidth": 0,
              "ticks": ""
             }
            },
            "type": "scatterternary"
           }
          ],
          "surface": [
           {
            "colorbar": {
             "outlinewidth": 0,
             "ticks": ""
            },
            "colorscale": [
             [
              0,
              "#0d0887"
             ],
             [
              0.1111111111111111,
              "#46039f"
             ],
             [
              0.2222222222222222,
              "#7201a8"
             ],
             [
              0.3333333333333333,
              "#9c179e"
             ],
             [
              0.4444444444444444,
              "#bd3786"
             ],
             [
              0.5555555555555556,
              "#d8576b"
             ],
             [
              0.6666666666666666,
              "#ed7953"
             ],
             [
              0.7777777777777778,
              "#fb9f3a"
             ],
             [
              0.8888888888888888,
              "#fdca26"
             ],
             [
              1,
              "#f0f921"
             ]
            ],
            "type": "surface"
           }
          ],
          "table": [
           {
            "cells": {
             "fill": {
              "color": "#EBF0F8"
             },
             "line": {
              "color": "white"
             }
            },
            "header": {
             "fill": {
              "color": "#C8D4E3"
             },
             "line": {
              "color": "white"
             }
            },
            "type": "table"
           }
          ]
         },
         "layout": {
          "annotationdefaults": {
           "arrowcolor": "#2a3f5f",
           "arrowhead": 0,
           "arrowwidth": 1
          },
          "autotypenumbers": "strict",
          "coloraxis": {
           "colorbar": {
            "outlinewidth": 0,
            "ticks": ""
           }
          },
          "colorscale": {
           "diverging": [
            [
             0,
             "#8e0152"
            ],
            [
             0.1,
             "#c51b7d"
            ],
            [
             0.2,
             "#de77ae"
            ],
            [
             0.3,
             "#f1b6da"
            ],
            [
             0.4,
             "#fde0ef"
            ],
            [
             0.5,
             "#f7f7f7"
            ],
            [
             0.6,
             "#e6f5d0"
            ],
            [
             0.7,
             "#b8e186"
            ],
            [
             0.8,
             "#7fbc41"
            ],
            [
             0.9,
             "#4d9221"
            ],
            [
             1,
             "#276419"
            ]
           ],
           "sequential": [
            [
             0,
             "#0d0887"
            ],
            [
             0.1111111111111111,
             "#46039f"
            ],
            [
             0.2222222222222222,
             "#7201a8"
            ],
            [
             0.3333333333333333,
             "#9c179e"
            ],
            [
             0.4444444444444444,
             "#bd3786"
            ],
            [
             0.5555555555555556,
             "#d8576b"
            ],
            [
             0.6666666666666666,
             "#ed7953"
            ],
            [
             0.7777777777777778,
             "#fb9f3a"
            ],
            [
             0.8888888888888888,
             "#fdca26"
            ],
            [
             1,
             "#f0f921"
            ]
           ],
           "sequentialminus": [
            [
             0,
             "#0d0887"
            ],
            [
             0.1111111111111111,
             "#46039f"
            ],
            [
             0.2222222222222222,
             "#7201a8"
            ],
            [
             0.3333333333333333,
             "#9c179e"
            ],
            [
             0.4444444444444444,
             "#bd3786"
            ],
            [
             0.5555555555555556,
             "#d8576b"
            ],
            [
             0.6666666666666666,
             "#ed7953"
            ],
            [
             0.7777777777777778,
             "#fb9f3a"
            ],
            [
             0.8888888888888888,
             "#fdca26"
            ],
            [
             1,
             "#f0f921"
            ]
           ]
          },
          "colorway": [
           "#636efa",
           "#EF553B",
           "#00cc96",
           "#ab63fa",
           "#FFA15A",
           "#19d3f3",
           "#FF6692",
           "#B6E880",
           "#FF97FF",
           "#FECB52"
          ],
          "font": {
           "color": "#2a3f5f"
          },
          "geo": {
           "bgcolor": "white",
           "lakecolor": "white",
           "landcolor": "#E5ECF6",
           "showlakes": true,
           "showland": true,
           "subunitcolor": "white"
          },
          "hoverlabel": {
           "align": "left"
          },
          "hovermode": "closest",
          "mapbox": {
           "style": "light"
          },
          "paper_bgcolor": "white",
          "plot_bgcolor": "#E5ECF6",
          "polar": {
           "angularaxis": {
            "gridcolor": "white",
            "linecolor": "white",
            "ticks": ""
           },
           "bgcolor": "#E5ECF6",
           "radialaxis": {
            "gridcolor": "white",
            "linecolor": "white",
            "ticks": ""
           }
          },
          "scene": {
           "xaxis": {
            "backgroundcolor": "#E5ECF6",
            "gridcolor": "white",
            "gridwidth": 2,
            "linecolor": "white",
            "showbackground": true,
            "ticks": "",
            "zerolinecolor": "white"
           },
           "yaxis": {
            "backgroundcolor": "#E5ECF6",
            "gridcolor": "white",
            "gridwidth": 2,
            "linecolor": "white",
            "showbackground": true,
            "ticks": "",
            "zerolinecolor": "white"
           },
           "zaxis": {
            "backgroundcolor": "#E5ECF6",
            "gridcolor": "white",
            "gridwidth": 2,
            "linecolor": "white",
            "showbackground": true,
            "ticks": "",
            "zerolinecolor": "white"
           }
          },
          "shapedefaults": {
           "line": {
            "color": "#2a3f5f"
           }
          },
          "ternary": {
           "aaxis": {
            "gridcolor": "white",
            "linecolor": "white",
            "ticks": ""
           },
           "baxis": {
            "gridcolor": "white",
            "linecolor": "white",
            "ticks": ""
           },
           "bgcolor": "#E5ECF6",
           "caxis": {
            "gridcolor": "white",
            "linecolor": "white",
            "ticks": ""
           }
          },
          "title": {
           "x": 0.05
          },
          "xaxis": {
           "automargin": true,
           "gridcolor": "white",
           "linecolor": "white",
           "ticks": "",
           "title": {
            "standoff": 15
           },
           "zerolinecolor": "white",
           "zerolinewidth": 2
          },
          "yaxis": {
           "automargin": true,
           "gridcolor": "white",
           "linecolor": "white",
           "ticks": "",
           "title": {
            "standoff": 15
           },
           "zerolinecolor": "white",
           "zerolinewidth": 2
          }
         }
        },
        "title": {
         "text": "Registered Users & App opens of 2020 Quarter-2"
        },
        "width": 1000,
        "xaxis": {
         "anchor": "y",
         "domain": [
          0,
          1
         ],
         "title": {
          "text": "states"
         }
        },
        "yaxis": {
         "anchor": "x",
         "domain": [
          0,
          1
         ],
         "title": {
          "text": "value"
         }
        }
       }
      }
     },
     "metadata": {},
     "output_type": "display_data"
    }
   ],
   "source": [
    "map_user_year_qua =map_user_fig2(map_user_yr, 2)"
   ]
  },
  {
   "cell_type": "code",
   "execution_count": null,
   "metadata": {},
   "outputs": [],
   "source": [
    "map_user_year_qua"
   ]
  },
  {
   "cell_type": "code",
   "execution_count": 245,
   "metadata": {},
   "outputs": [],
   "source": [
    "#map User analysis 3\n",
    "def map_user_fig3(df,states):\n",
    "\n",
    "    map_user_yr_qua_st = df[df[\"states\"]== states]\n",
    "    map_user_yr_qua_st.reset_index(drop=True, inplace=True) \n",
    "\n",
    "    map_fig_bar1=pt.bar(map_user_yr_qua_st, x=\"Registered_Users\", y=\"Districts\",orientation=\"h\",\n",
    "                    title=\"Registered_Users Districts\",height=800, color_discrete_sequence=pt.colors.sequential.RdBu)\n",
    "    map_fig_bar1.show()                    \n",
    "\n",
    "    map_fig_bar2=pt.bar(map_user_yr_qua_st, x=\"App_Opens\", y=\"Districts\",orientation=\"h\",\n",
    "                    title=\"App_opens Districts\",height=800, color_discrete_sequence=pt.colors.sequential.RdBu_r)\n",
    "    map_fig_bar2.show()"
   ]
  },
  {
   "cell_type": "code",
   "execution_count": null,
   "metadata": {},
   "outputs": [],
   "source": [
    "map_user_fig3(map_user_year_qua,\"Tamil Nadu\")"
   ]
  },
  {
   "cell_type": "code",
   "execution_count": null,
   "metadata": {},
   "outputs": [],
   "source": [
    "map_user"
   ]
  },
  {
   "cell_type": "markdown",
   "metadata": {},
   "source": [
    "### TOP_INSURANCE"
   ]
  },
  {
   "cell_type": "code",
   "execution_count": null,
   "metadata": {},
   "outputs": [],
   "source": [
    "Top_tran_amt_ct_year=Transaction_amount_count(top_insurance, 2022)"
   ]
  },
  {
   "cell_type": "code",
   "execution_count": 271,
   "metadata": {},
   "outputs": [],
   "source": [
    "def Top_insurance_fig1(df,state):\n",
    "\n",
    "    Top_insur_yr_qua = df[df[\"states\"]== state]\n",
    "    Top_insur_yr_qua.reset_index(drop=True, inplace=True) \n",
    "\n",
    "    Top_insur_fig_bar1=pt.bar(Top_insur_yr_qua, x=\"Quarter\", y=\"Transaction_amount\",hover_data=\"Pincodes\",\n",
    "                                title=\"Transaction Amount\", height=800, color_discrete_sequence=pt.colors.sequential.RdBu)\n",
    "    Top_insur_fig_bar1.show()  \n",
    "\n",
    "    Top_insur_fig_bar2=pt.bar(Top_insur_yr_qua, x=\"Quarter\", y=\"Transaction_count\",hover_data=\"Pincodes\",\n",
    "                                title=\"Transaction Count\", height=800, color_discrete_sequence=pt.colors.sequential.RdPu_r)\n",
    "    Top_insur_fig_bar2.show()                  \n"
   ]
  },
  {
   "cell_type": "code",
   "execution_count": null,
   "metadata": {},
   "outputs": [],
   "source": [
    "Top_insurance_fig1(Top_tran_amt_ct_year,\"Tamil Nadu\")"
   ]
  },
  {
   "cell_type": "code",
   "execution_count": null,
   "metadata": {},
   "outputs": [],
   "source": [
    "Transaction_amount_count_qua(Top_tran_amt_ct_year, 2 )"
   ]
  },
  {
   "cell_type": "markdown",
   "metadata": {},
   "source": [
    "###TOP TRANSACTION"
   ]
  },
  {
   "cell_type": "code",
   "execution_count": null,
   "metadata": {},
   "outputs": [],
   "source": [
    "Top_transaction_amt_ct_year=Transaction_amount_count(top_insurance, 2023)\n",
    "Top_transaction_amt_ct_year"
   ]
  },
  {
   "cell_type": "code",
   "execution_count": null,
   "metadata": {},
   "outputs": [],
   "source": [
    "Top_insurance_fig1(Top_transaction_amt_ct_year,\"West Bengal\")"
   ]
  },
  {
   "cell_type": "markdown",
   "metadata": {},
   "source": [
    "### TOP_USER"
   ]
  },
  {
   "cell_type": "code",
   "execution_count": 304,
   "metadata": {},
   "outputs": [],
   "source": [
    "#Top_user figure\n",
    "def top_user_fig1(df,year):\n",
    "\n",
    "    top_user_yr = df[df[\"Years\"]==year]\n",
    "    top_user_yr.reset_index(drop=True, inplace=True) \n",
    "\n",
    "    top_user_yr_grp = pd.DataFrame(top_user_yr.groupby([\"states\",\"Quarter\"])[[\"RegisteredUsers\"]].sum())\n",
    "    top_user_yr_grp.reset_index(inplace=True) \n",
    "\n",
    "    top_user_bar=pt.bar(top_user_yr_grp, x=\"states\", y=\"RegisteredUsers\", color=\"Quarter\", height=800,\n",
    "                        width=1000, color_discrete_sequence= pt.colors.sequential.RdPu_r,hover_name=\"states\", title=f\"Registered Users of {year}\")\n",
    "\n",
    "    top_user_bar.show()\n",
    "\n",
    "    return top_user_yr"
   ]
  },
  {
   "cell_type": "code",
   "execution_count": null,
   "metadata": {},
   "outputs": [],
   "source": [
    "top_user_year=top_user_fig1(top_user,2020)"
   ]
  },
  {
   "cell_type": "code",
   "execution_count": null,
   "metadata": {},
   "outputs": [],
   "source": [
    "#TOP User analysis 3\n",
    "def Top_user_fig2(df,states):\n",
    "\n",
    "top_user_yr_st = top_user_year[top_user_year[\"states\"]== \"Tamil Nadu\"]\n",
    "top_user_yr_st.reset_index(drop=True, inplace=True) \n",
    "\n",
    "top_user_bar2=pt.bar(top_user_yr_st, x=\"Quarter\", y=\"RegisteredUsers\",hover_name=\"Pincodes\",title=\"Registered user,pincodes,quarter\",\n",
    "                     height=800, width=1000, color =\"RegisteredUsers\", color_continuous_scale= pt.colors.sequential.Magenta)\n",
    "\n",
    "top_user_bar2.show()"
   ]
  },
  {
   "cell_type": "code",
   "execution_count": 306,
   "metadata": {},
   "outputs": [
    {
     "data": {
      "text/html": [
       "<div>\n",
       "<style scoped>\n",
       "    .dataframe tbody tr th:only-of-type {\n",
       "        vertical-align: middle;\n",
       "    }\n",
       "\n",
       "    .dataframe tbody tr th {\n",
       "        vertical-align: top;\n",
       "    }\n",
       "\n",
       "    .dataframe thead th {\n",
       "        text-align: right;\n",
       "    }\n",
       "</style>\n",
       "<table border=\"1\" class=\"dataframe\">\n",
       "  <thead>\n",
       "    <tr style=\"text-align: right;\">\n",
       "      <th></th>\n",
       "      <th>states</th>\n",
       "      <th>Years</th>\n",
       "      <th>Quarter</th>\n",
       "      <th>Pincodes</th>\n",
       "      <th>RegisteredUsers</th>\n",
       "    </tr>\n",
       "  </thead>\n",
       "  <tbody>\n",
       "    <tr>\n",
       "      <th>0</th>\n",
       "      <td>Andaman &amp; Nicobar</td>\n",
       "      <td>2020</td>\n",
       "      <td>1</td>\n",
       "      <td>744103</td>\n",
       "      <td>6108</td>\n",
       "    </tr>\n",
       "    <tr>\n",
       "      <th>1</th>\n",
       "      <td>Andaman &amp; Nicobar</td>\n",
       "      <td>2020</td>\n",
       "      <td>1</td>\n",
       "      <td>744101</td>\n",
       "      <td>4689</td>\n",
       "    </tr>\n",
       "    <tr>\n",
       "      <th>2</th>\n",
       "      <td>Andaman &amp; Nicobar</td>\n",
       "      <td>2020</td>\n",
       "      <td>1</td>\n",
       "      <td>744105</td>\n",
       "      <td>4684</td>\n",
       "    </tr>\n",
       "    <tr>\n",
       "      <th>3</th>\n",
       "      <td>Andaman &amp; Nicobar</td>\n",
       "      <td>2020</td>\n",
       "      <td>1</td>\n",
       "      <td>744102</td>\n",
       "      <td>3727</td>\n",
       "    </tr>\n",
       "    <tr>\n",
       "      <th>4</th>\n",
       "      <td>Andaman &amp; Nicobar</td>\n",
       "      <td>2020</td>\n",
       "      <td>1</td>\n",
       "      <td>744202</td>\n",
       "      <td>1216</td>\n",
       "    </tr>\n",
       "    <tr>\n",
       "      <th>...</th>\n",
       "      <td>...</td>\n",
       "      <td>...</td>\n",
       "      <td>...</td>\n",
       "      <td>...</td>\n",
       "      <td>...</td>\n",
       "    </tr>\n",
       "    <tr>\n",
       "      <th>1423</th>\n",
       "      <td>West Bengal</td>\n",
       "      <td>2020</td>\n",
       "      <td>4</td>\n",
       "      <td>700015</td>\n",
       "      <td>67402</td>\n",
       "    </tr>\n",
       "    <tr>\n",
       "      <th>1424</th>\n",
       "      <td>West Bengal</td>\n",
       "      <td>2020</td>\n",
       "      <td>4</td>\n",
       "      <td>721101</td>\n",
       "      <td>65712</td>\n",
       "    </tr>\n",
       "    <tr>\n",
       "      <th>1425</th>\n",
       "      <td>West Bengal</td>\n",
       "      <td>2020</td>\n",
       "      <td>4</td>\n",
       "      <td>742304</td>\n",
       "      <td>65083</td>\n",
       "    </tr>\n",
       "    <tr>\n",
       "      <th>1426</th>\n",
       "      <td>West Bengal</td>\n",
       "      <td>2020</td>\n",
       "      <td>4</td>\n",
       "      <td>700091</td>\n",
       "      <td>64738</td>\n",
       "    </tr>\n",
       "    <tr>\n",
       "      <th>1427</th>\n",
       "      <td>West Bengal</td>\n",
       "      <td>2020</td>\n",
       "      <td>4</td>\n",
       "      <td>700150</td>\n",
       "      <td>63152</td>\n",
       "    </tr>\n",
       "  </tbody>\n",
       "</table>\n",
       "<p>1428 rows × 5 columns</p>\n",
       "</div>"
      ],
      "text/plain": [
       "                 states  Years  Quarter Pincodes  RegisteredUsers\n",
       "0     Andaman & Nicobar   2020        1   744103             6108\n",
       "1     Andaman & Nicobar   2020        1   744101             4689\n",
       "2     Andaman & Nicobar   2020        1   744105             4684\n",
       "3     Andaman & Nicobar   2020        1   744102             3727\n",
       "4     Andaman & Nicobar   2020        1   744202             1216\n",
       "...                 ...    ...      ...      ...              ...\n",
       "1423        West Bengal   2020        4   700015            67402\n",
       "1424        West Bengal   2020        4   721101            65712\n",
       "1425        West Bengal   2020        4   742304            65083\n",
       "1426        West Bengal   2020        4   700091            64738\n",
       "1427        West Bengal   2020        4   700150            63152\n",
       "\n",
       "[1428 rows x 5 columns]"
      ]
     },
     "execution_count": 306,
     "metadata": {},
     "output_type": "execute_result"
    }
   ],
   "source": [
    "top_user_year"
   ]
  },
  {
   "cell_type": "code",
   "execution_count": null,
   "metadata": {},
   "outputs": [],
   "source": []
  }
 ],
 "metadata": {
  "kernelspec": {
   "display_name": ".venv",
   "language": "python",
   "name": "python3"
  },
  "language_info": {
   "codemirror_mode": {
    "name": "ipython",
    "version": 3
   },
   "file_extension": ".py",
   "mimetype": "text/x-python",
   "name": "python",
   "nbconvert_exporter": "python",
   "pygments_lexer": "ipython3",
   "version": "3.11.5"
  }
 },
 "nbformat": 4,
 "nbformat_minor": 2
}
